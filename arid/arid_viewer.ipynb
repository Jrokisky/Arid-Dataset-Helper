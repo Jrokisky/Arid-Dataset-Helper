{
 "cells": [
  {
   "cell_type": "code",
   "execution_count": 1,
   "metadata": {
    "scrolled": true
   },
   "outputs": [],
   "source": [
    "import random\n",
    "\n",
    "import arid\n",
    "from PIL import ImageDraw, Image\n",
    "from IPython.display import display\n",
    "wps = arid.get_wps(\"/home/justin/Desktop/arid-dataset\")\n"
   ]
  },
  {
   "cell_type": "code",
   "execution_count": 4,
   "metadata": {},
   "outputs": [
    {
     "data": {
      "text/plain": [
       "{'maskrcnn': [PosixPath('/home/justin/Desktop/arid-dataset/Exp_9/wp_9_2_54/maskrcnn/016.png'),\n",
       "  PosixPath('/home/justin/Desktop/arid-dataset/Exp_9/wp_9_2_54/maskrcnn/004.png'),\n",
       "  PosixPath('/home/justin/Desktop/arid-dataset/Exp_9/wp_9_2_54/maskrcnn/002.png'),\n",
       "  PosixPath('/home/justin/Desktop/arid-dataset/Exp_9/wp_9_2_54/maskrcnn/014.png'),\n",
       "  PosixPath('/home/justin/Desktop/arid-dataset/Exp_9/wp_9_2_54/maskrcnn/013.png'),\n",
       "  PosixPath('/home/justin/Desktop/arid-dataset/Exp_9/wp_9_2_54/maskrcnn/001.png'),\n",
       "  PosixPath('/home/justin/Desktop/arid-dataset/Exp_9/wp_9_2_54/maskrcnn/011.png'),\n",
       "  PosixPath('/home/justin/Desktop/arid-dataset/Exp_9/wp_9_2_54/maskrcnn/008.png'),\n",
       "  PosixPath('/home/justin/Desktop/arid-dataset/Exp_9/wp_9_2_54/maskrcnn/007.png'),\n",
       "  PosixPath('/home/justin/Desktop/arid-dataset/Exp_9/wp_9_2_54/maskrcnn/012.png'),\n",
       "  PosixPath('/home/justin/Desktop/arid-dataset/Exp_9/wp_9_2_54/maskrcnn/010.png'),\n",
       "  PosixPath('/home/justin/Desktop/arid-dataset/Exp_9/wp_9_2_54/maskrcnn/006.png'),\n",
       "  PosixPath('/home/justin/Desktop/arid-dataset/Exp_9/wp_9_2_54/maskrcnn/003.png'),\n",
       "  PosixPath('/home/justin/Desktop/arid-dataset/Exp_9/wp_9_2_54/maskrcnn/015.png'),\n",
       "  PosixPath('/home/justin/Desktop/arid-dataset/Exp_9/wp_9_2_54/maskrcnn/005.png'),\n",
       "  PosixPath('/home/justin/Desktop/arid-dataset/Exp_9/wp_9_2_54/maskrcnn/009.png')],\n",
       " 'googlevision': [PosixPath('/home/justin/Desktop/arid-dataset/Exp_9/wp_9_2_54/googlevision/016.png'),\n",
       "  PosixPath('/home/justin/Desktop/arid-dataset/Exp_9/wp_9_2_54/googlevision/004.png'),\n",
       "  PosixPath('/home/justin/Desktop/arid-dataset/Exp_9/wp_9_2_54/googlevision/002.png'),\n",
       "  PosixPath('/home/justin/Desktop/arid-dataset/Exp_9/wp_9_2_54/googlevision/014.png'),\n",
       "  PosixPath('/home/justin/Desktop/arid-dataset/Exp_9/wp_9_2_54/googlevision/013.png'),\n",
       "  PosixPath('/home/justin/Desktop/arid-dataset/Exp_9/wp_9_2_54/googlevision/001.png'),\n",
       "  PosixPath('/home/justin/Desktop/arid-dataset/Exp_9/wp_9_2_54/googlevision/011.png'),\n",
       "  PosixPath('/home/justin/Desktop/arid-dataset/Exp_9/wp_9_2_54/googlevision/008.png'),\n",
       "  PosixPath('/home/justin/Desktop/arid-dataset/Exp_9/wp_9_2_54/googlevision/007.png'),\n",
       "  PosixPath('/home/justin/Desktop/arid-dataset/Exp_9/wp_9_2_54/googlevision/012.png'),\n",
       "  PosixPath('/home/justin/Desktop/arid-dataset/Exp_9/wp_9_2_54/googlevision/010.png'),\n",
       "  PosixPath('/home/justin/Desktop/arid-dataset/Exp_9/wp_9_2_54/googlevision/006.png'),\n",
       "  PosixPath('/home/justin/Desktop/arid-dataset/Exp_9/wp_9_2_54/googlevision/003.png'),\n",
       "  PosixPath('/home/justin/Desktop/arid-dataset/Exp_9/wp_9_2_54/googlevision/015.png'),\n",
       "  PosixPath('/home/justin/Desktop/arid-dataset/Exp_9/wp_9_2_54/googlevision/005.png'),\n",
       "  PosixPath('/home/justin/Desktop/arid-dataset/Exp_9/wp_9_2_54/googlevision/009.png')],\n",
       " 'ground_truth': [PosixPath('/home/justin/Desktop/arid-dataset/Exp_9/wp_9_2_54/ground_truth/016.png'),\n",
       "  PosixPath('/home/justin/Desktop/arid-dataset/Exp_9/wp_9_2_54/ground_truth/004.png'),\n",
       "  PosixPath('/home/justin/Desktop/arid-dataset/Exp_9/wp_9_2_54/ground_truth/002.png'),\n",
       "  PosixPath('/home/justin/Desktop/arid-dataset/Exp_9/wp_9_2_54/ground_truth/014.png'),\n",
       "  PosixPath('/home/justin/Desktop/arid-dataset/Exp_9/wp_9_2_54/ground_truth/013.png'),\n",
       "  PosixPath('/home/justin/Desktop/arid-dataset/Exp_9/wp_9_2_54/ground_truth/001.png'),\n",
       "  PosixPath('/home/justin/Desktop/arid-dataset/Exp_9/wp_9_2_54/ground_truth/011.png'),\n",
       "  PosixPath('/home/justin/Desktop/arid-dataset/Exp_9/wp_9_2_54/ground_truth/008.png'),\n",
       "  PosixPath('/home/justin/Desktop/arid-dataset/Exp_9/wp_9_2_54/ground_truth/007.png'),\n",
       "  PosixPath('/home/justin/Desktop/arid-dataset/Exp_9/wp_9_2_54/ground_truth/012.png'),\n",
       "  PosixPath('/home/justin/Desktop/arid-dataset/Exp_9/wp_9_2_54/ground_truth/010.png'),\n",
       "  PosixPath('/home/justin/Desktop/arid-dataset/Exp_9/wp_9_2_54/ground_truth/006.png'),\n",
       "  PosixPath('/home/justin/Desktop/arid-dataset/Exp_9/wp_9_2_54/ground_truth/003.png'),\n",
       "  PosixPath('/home/justin/Desktop/arid-dataset/Exp_9/wp_9_2_54/ground_truth/015.png'),\n",
       "  PosixPath('/home/justin/Desktop/arid-dataset/Exp_9/wp_9_2_54/ground_truth/005.png'),\n",
       "  PosixPath('/home/justin/Desktop/arid-dataset/Exp_9/wp_9_2_54/ground_truth/009.png')],\n",
       " 'fastercnn': [PosixPath('/home/justin/Desktop/arid-dataset/Exp_9/wp_9_2_54/fastercnn/016.png'),\n",
       "  PosixPath('/home/justin/Desktop/arid-dataset/Exp_9/wp_9_2_54/fastercnn/004.png'),\n",
       "  PosixPath('/home/justin/Desktop/arid-dataset/Exp_9/wp_9_2_54/fastercnn/002.png'),\n",
       "  PosixPath('/home/justin/Desktop/arid-dataset/Exp_9/wp_9_2_54/fastercnn/014.png'),\n",
       "  PosixPath('/home/justin/Desktop/arid-dataset/Exp_9/wp_9_2_54/fastercnn/013.png'),\n",
       "  PosixPath('/home/justin/Desktop/arid-dataset/Exp_9/wp_9_2_54/fastercnn/001.png'),\n",
       "  PosixPath('/home/justin/Desktop/arid-dataset/Exp_9/wp_9_2_54/fastercnn/011.png'),\n",
       "  PosixPath('/home/justin/Desktop/arid-dataset/Exp_9/wp_9_2_54/fastercnn/008.png'),\n",
       "  PosixPath('/home/justin/Desktop/arid-dataset/Exp_9/wp_9_2_54/fastercnn/007.png'),\n",
       "  PosixPath('/home/justin/Desktop/arid-dataset/Exp_9/wp_9_2_54/fastercnn/012.png'),\n",
       "  PosixPath('/home/justin/Desktop/arid-dataset/Exp_9/wp_9_2_54/fastercnn/010.png'),\n",
       "  PosixPath('/home/justin/Desktop/arid-dataset/Exp_9/wp_9_2_54/fastercnn/006.png'),\n",
       "  PosixPath('/home/justin/Desktop/arid-dataset/Exp_9/wp_9_2_54/fastercnn/003.png'),\n",
       "  PosixPath('/home/justin/Desktop/arid-dataset/Exp_9/wp_9_2_54/fastercnn/015.png'),\n",
       "  PosixPath('/home/justin/Desktop/arid-dataset/Exp_9/wp_9_2_54/fastercnn/005.png'),\n",
       "  PosixPath('/home/justin/Desktop/arid-dataset/Exp_9/wp_9_2_54/fastercnn/009.png')]}"
      ]
     },
     "execution_count": 4,
     "metadata": {},
     "output_type": "execute_result"
    }
   ],
   "source": [
    "wp = wps[0]\n",
    "wp.method_image_paths()"
   ]
  },
  {
   "cell_type": "code",
   "execution_count": null,
   "metadata": {},
   "outputs": [],
   "source": [
    "for wp in wps:\n",
    "    img_paths = wp.rgb_image_paths()\n",
    "    for img_path in img_paths:\n",
    "        annotations = wp.get_annotations(img_path.stem)\n",
    "        _annotations = []\n",
    "        for annotation in annotations:\n",
    "            x = annotation['x']\n",
    "            y = annotation['y']\n",
    "            w = annotation['width']\n",
    "            h = annotation['height']\n",
    "            _annotations.append({\n",
    "                'id': annotation['id'],\n",
    "                'coords': [(x,y), (x+w, y), (x+w, y+h), (x,y+h)],\n",
    "                'score': 1.0,\n",
    "                'colormap': 'YlGn'\n",
    "            })\n",
    "        img = Image.open(img_path)\n",
    "        new_img_path = arid.annotation_path(img_path, 'ground_truth')\n",
    "        arid.annotate_img(img, new_img_path, _annotations)\n",
    "        print(str(new_img_path))\n"
   ]
  }
 ],
 "metadata": {
  "celltoolbar": "Slideshow",
  "kernelspec": {
   "display_name": "Python 3",
   "language": "python",
   "name": "python3"
  },
  "language_info": {
   "codemirror_mode": {
    "name": "ipython",
    "version": 3
   },
   "file_extension": ".py",
   "mimetype": "text/x-python",
   "name": "python",
   "nbconvert_exporter": "python",
   "pygments_lexer": "ipython3",
   "version": "3.8.2"
  }
 },
 "nbformat": 4,
 "nbformat_minor": 4
}
