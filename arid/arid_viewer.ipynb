{
 "cells": [
  {
   "cell_type": "code",
   "execution_count": 1,
   "metadata": {
    "scrolled": true
   },
   "outputs": [],
   "source": [
    "import random\n",
    "\n",
    "import arid\n",
    "from PIL import ImageDraw, Image\n",
    "from IPython.display import display\n",
    "wps = arid.get_wps(\"/home/justin/Desktop/arid-dataset\")\n"
   ]
  },
  {
   "cell_type": "code",
   "execution_count": null,
   "metadata": {},
   "outputs": [],
   "source": [
    "for wp in wps:\n",
    "    img_paths = wp.rgb_image_paths()\n",
    "    for img_path in img_paths:\n",
    "        annotations = wp.get_annotations(img_path.stem)\n",
    "        _annotations = []\n",
    "        for annotation in annotations:\n",
    "            x = annotation['x']\n",
    "            y = annotation['y']\n",
    "            w = annotation['width']\n",
    "            h = annotation['height']\n",
    "            _annotations.append({\n",
    "                'id': annotation['id'],\n",
    "                'coords': [(x,y), (x+w, y), (x+w, y+h), (x,y+h)],\n",
    "                'score': 1.0,\n",
    "                'colormap': 'YlGn'\n",
    "            })\n",
    "        img = Image.open(img_path)\n",
    "        new_img_path = arid.annotation_path(img_path, 'ground_truth')\n",
    "        arid.annotate_img(img, new_img_path, _annotations)\n",
    "        print(str(new_img_path))\n"
   ]
  }
 ],
 "metadata": {
  "celltoolbar": "Slideshow",
  "kernelspec": {
   "display_name": "Python 3",
   "language": "python",
   "name": "python3"
  },
  "language_info": {
   "codemirror_mode": {
    "name": "ipython",
    "version": 3
   },
   "file_extension": ".py",
   "mimetype": "text/x-python",
   "name": "python",
   "nbconvert_exporter": "python",
   "pygments_lexer": "ipython3",
   "version": "3.8.2"
  }
 },
 "nbformat": 4,
 "nbformat_minor": 4
}
