{
 "cells": [
  {
   "cell_type": "code",
   "execution_count": null,
   "metadata": {
    "scrolled": true
   },
   "outputs": [],
   "source": [
    "import random\n",
    "\n",
    "import arid\n",
    "from PIL import ImageDraw\n",
    "from IPython.display import display\n",
    "wps = arid.build_wps()\n"
   ]
  },
  {
   "cell_type": "code",
   "execution_count": null,
   "metadata": {
    "scrolled": false
   },
   "outputs": [],
   "source": [
    "\n",
    "for wp in random.sample(wps, 2):\n",
    "    print(f'------------------{str(wp)}------------------')\n",
    "    imgs = wp.rgb_images()\n",
    "    for title, img in imgs.items():\n",
    "        draw = ImageDraw.Draw(img)\n",
    "        annotations = wp.get_annotations(title)\n",
    "        for annotation in annotations:\n",
    "            id = annotation['id']\n",
    "            x = annotation['x']\n",
    "            y = annotation['y']\n",
    "            width = annotation['width']\n",
    "            height = annotation['height']\n",
    "            draw.rectangle(((x, y), (x + width, y + height)), outline =\"red\")\n",
    "            draw.text((x, y), id, fill=(255,255,255,128))\n",
    "        display(img)"
   ]
  },
  {
   "cell_type": "code",
   "execution_count": null,
   "metadata": {},
   "outputs": [],
   "source": []
  }
 ],
 "metadata": {
  "celltoolbar": "Slideshow",
  "kernelspec": {
   "display_name": "Python 3",
   "language": "python",
   "name": "python3"
  },
  "language_info": {
   "codemirror_mode": {
    "name": "ipython",
    "version": 3
   },
   "file_extension": ".py",
   "mimetype": "text/x-python",
   "name": "python",
   "nbconvert_exporter": "python",
   "pygments_lexer": "ipython3",
   "version": "3.8.2"
  }
 },
 "nbformat": 4,
 "nbformat_minor": 4
}
